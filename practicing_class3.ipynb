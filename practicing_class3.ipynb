{
 "cells": [
  {
   "cell_type": "markdown",
   "id": "5433f648-c9c4-44a1-a561-65d7feda1cce",
   "metadata": {},
   "source": [
    "# 1.List"
   ]
  },
  {
   "cell_type": "code",
   "execution_count": 2,
   "id": "d49162e2-ab57-4414-9ee8-a8d8ffd328b9",
   "metadata": {},
   "outputs": [
    {
     "name": "stdout",
     "output_type": "stream",
     "text": [
      "['ai', 'ds', 'da', 'nlp', 'ML']\n"
     ]
    }
   ],
   "source": [
    "dept = [\"ai\", \"ds\", \"da\", \"nlp\",\"ML\"]\n",
    "print(dept)"
   ]
  },
  {
   "cell_type": "code",
   "execution_count": 4,
   "id": "43cf0f61-a470-4664-9574-0b06f0a94986",
   "metadata": {},
   "outputs": [
    {
     "data": {
      "text/plain": [
       "list"
      ]
     },
     "execution_count": 4,
     "metadata": {},
     "output_type": "execute_result"
    }
   ],
   "source": [
    "type(dept)"
   ]
  },
  {
   "cell_type": "markdown",
   "id": "e26f3796-778d-4dda-b40d-2b317e1df929",
   "metadata": {},
   "source": [
    "# A list is an ordered, changeable, mutable collection of elements. It also allowed duplicates. Lists can contain elements of different types."
   ]
  },
  {
   "cell_type": "code",
   "execution_count": 7,
   "id": "e6c29f32-5a33-4a5d-8e9c-e5b42342ca7b",
   "metadata": {},
   "outputs": [
    {
     "name": "stdout",
     "output_type": "stream",
     "text": [
      "['ai', 'ds', 'da', 'nlp', 1, 2, 3, 4, (9, 7, 4), True, False, {5, 7}]\n"
     ]
    }
   ],
   "source": [
    "list = [\"ai\", \"ds\", \"da\", \"nlp\",1,2,3,4,(9,7,4),True,False,{5,7}]\n",
    "print(list)"
   ]
  },
  {
   "cell_type": "code",
   "execution_count": 9,
   "id": "f6a6d2e0-2fcd-483a-b6fb-aef5a82187de",
   "metadata": {},
   "outputs": [
    {
     "data": {
      "text/plain": [
       "['ai', 'ds', 'da', 'nlp', 1, 2, 3, 4, (9, 7, 4), True, False, {5, 7}]"
      ]
     },
     "execution_count": 9,
     "metadata": {},
     "output_type": "execute_result"
    }
   ],
   "source": [
    "list"
   ]
  },
  {
   "cell_type": "code",
   "execution_count": 11,
   "id": "3a550bf4-3874-4d34-b94f-06b27018f00d",
   "metadata": {},
   "outputs": [
    {
     "data": {
      "text/plain": [
       "'ai'"
      ]
     },
     "execution_count": 11,
     "metadata": {},
     "output_type": "execute_result"
    }
   ],
   "source": [
    "list[0]"
   ]
  },
  {
   "cell_type": "code",
   "execution_count": 13,
   "id": "d9b49bcd-7440-4cb7-b385-6a5859e679d6",
   "metadata": {},
   "outputs": [
    {
     "data": {
      "text/plain": [
       "'nlp'"
      ]
     },
     "execution_count": 13,
     "metadata": {},
     "output_type": "execute_result"
    }
   ],
   "source": [
    "list[3]"
   ]
  },
  {
   "cell_type": "code",
   "execution_count": 15,
   "id": "fdd58ed0-31c4-485a-82b8-3b3b2668a48b",
   "metadata": {},
   "outputs": [
    {
     "data": {
      "text/plain": [
       "1"
      ]
     },
     "execution_count": 15,
     "metadata": {},
     "output_type": "execute_result"
    }
   ],
   "source": [
    "list[4]"
   ]
  },
  {
   "cell_type": "code",
   "execution_count": 17,
   "id": "d58b678c-831b-486f-b186-e2b0d98e2439",
   "metadata": {},
   "outputs": [
    {
     "data": {
      "text/plain": [
       "4"
      ]
     },
     "execution_count": 17,
     "metadata": {},
     "output_type": "execute_result"
    }
   ],
   "source": [
    "list[7]"
   ]
  },
  {
   "cell_type": "code",
   "execution_count": 19,
   "id": "29c15e47-45b6-4fa4-8188-a976ab4057db",
   "metadata": {},
   "outputs": [
    {
     "data": {
      "text/plain": [
       "(9, 7, 4)"
      ]
     },
     "execution_count": 19,
     "metadata": {},
     "output_type": "execute_result"
    }
   ],
   "source": [
    "list[8]"
   ]
  },
  {
   "cell_type": "code",
   "execution_count": 21,
   "id": "765ade29-9c56-4468-bc0a-86c9bc27d4dd",
   "metadata": {},
   "outputs": [
    {
     "data": {
      "text/plain": [
       "{5, 7}"
      ]
     },
     "execution_count": 21,
     "metadata": {},
     "output_type": "execute_result"
    }
   ],
   "source": [
    "list[11]"
   ]
  },
  {
   "cell_type": "code",
   "execution_count": 23,
   "id": "17935ee4-2626-48b4-bc6c-28b8b6e5ff38",
   "metadata": {},
   "outputs": [
    {
     "data": {
      "text/plain": [
       "{5, 7}"
      ]
     },
     "execution_count": 23,
     "metadata": {},
     "output_type": "execute_result"
    }
   ],
   "source": [
    "list[-1]"
   ]
  },
  {
   "cell_type": "code",
   "execution_count": 25,
   "id": "325eb647-6ed4-4b31-99d0-3a7b40fe0f7c",
   "metadata": {},
   "outputs": [
    {
     "data": {
      "text/plain": [
       "(9, 7, 4)"
      ]
     },
     "execution_count": 25,
     "metadata": {},
     "output_type": "execute_result"
    }
   ],
   "source": [
    "list[-4]"
   ]
  },
  {
   "cell_type": "code",
   "execution_count": 27,
   "id": "530bf952-2e04-4114-a535-9b0c538289ac",
   "metadata": {},
   "outputs": [
    {
     "data": {
      "text/plain": [
       "9"
      ]
     },
     "execution_count": 27,
     "metadata": {},
     "output_type": "execute_result"
    }
   ],
   "source": [
    "list[-4][0]"
   ]
  },
  {
   "cell_type": "code",
   "execution_count": 29,
   "id": "e331030c-8011-4aae-a0ea-557b3c7b7a47",
   "metadata": {},
   "outputs": [
    {
     "data": {
      "text/plain": [
       "['da', 'nlp', 1, 2, 3]"
      ]
     },
     "execution_count": 29,
     "metadata": {},
     "output_type": "execute_result"
    }
   ],
   "source": [
    "list[2:7]"
   ]
  },
  {
   "cell_type": "code",
   "execution_count": 31,
   "id": "06459568-9d9b-4c29-8a38-36517ac2f341",
   "metadata": {},
   "outputs": [
    {
     "data": {
      "text/plain": [
       "152"
      ]
     },
     "execution_count": 31,
     "metadata": {},
     "output_type": "execute_result"
    }
   ],
   "source": [
    "import sys\n",
    "sys.getsizeof(list)"
   ]
  },
  {
   "cell_type": "markdown",
   "id": "7be599bf-8cf9-40d5-aee1-df385658933a",
   "metadata": {},
   "source": [
    "### Common List Methods:\n",
    "\n",
    "- `append()`\n",
    "- `insert()`\n",
    "- `remove()`\n",
    "- `pop()`\n",
    "- `clear()`\n",
    "- `index()`\n",
    "- `count()`\n",
    "- `sort()`\n",
    "- `reverse()`\n",
    "- `copy()`()\r\n",
    "copy()()\r\n",
    "copy()()\r\n",
    "copy()"
   ]
  },
  {
   "cell_type": "code",
   "execution_count": 34,
   "id": "b81d7e21-1ac6-479c-b710-9c271de3f552",
   "metadata": {},
   "outputs": [
    {
     "name": "stdout",
     "output_type": "stream",
     "text": [
      "['ai', 'ds', 'da', 'nlp']\n"
     ]
    }
   ],
   "source": [
    "dept = [\"ai\", \"ds\", \"da\", \"nlp\"]\n",
    "print(dept)"
   ]
  },
  {
   "cell_type": "code",
   "execution_count": 36,
   "id": "5e30e7b9-f3bf-453c-852e-85b7996c0ffa",
   "metadata": {},
   "outputs": [
    {
     "name": "stdout",
     "output_type": "stream",
     "text": [
      "['ai', 'ds', 'da', 'nlp', 'cv']\n"
     ]
    }
   ],
   "source": [
    "dept.append(\"cv\")\n",
    "print(dept)"
   ]
  },
  {
   "cell_type": "code",
   "execution_count": 38,
   "id": "f5125051-4894-4b74-8afc-54c3c4d3e2e7",
   "metadata": {},
   "outputs": [
    {
     "name": "stdout",
     "output_type": "stream",
     "text": [
      "['ai', 'ml', 'ds', 'da', 'nlp', 'cv']\n"
     ]
    }
   ],
   "source": [
    "dept.insert(1, \"ml\")\n",
    "print(dept)"
   ]
  },
  {
   "cell_type": "code",
   "execution_count": 40,
   "id": "0a3caa8a-fdf1-4549-8d49-5523a93ad35d",
   "metadata": {},
   "outputs": [
    {
     "name": "stdout",
     "output_type": "stream",
     "text": [
      "['ai', 'ml', 'da', 'nlp', 'cv']\n"
     ]
    }
   ],
   "source": [
    "dept.remove(\"ds\")\n",
    "print(dept)"
   ]
  },
  {
   "cell_type": "code",
   "execution_count": 42,
   "id": "eb64b91e-55b0-48ef-b401-48da56dd56bd",
   "metadata": {},
   "outputs": [
    {
     "data": {
      "text/plain": [
       "'da'"
      ]
     },
     "execution_count": 42,
     "metadata": {},
     "output_type": "execute_result"
    }
   ],
   "source": [
    "dept.pop(2)"
   ]
  },
  {
   "cell_type": "code",
   "execution_count": 44,
   "id": "bb824b38-1a70-4947-bd56-93a08f3961ba",
   "metadata": {},
   "outputs": [
    {
     "data": {
      "text/plain": [
       "['ai', 'ml', 'nlp', 'cv']"
      ]
     },
     "execution_count": 44,
     "metadata": {},
     "output_type": "execute_result"
    }
   ],
   "source": [
    "dept"
   ]
  },
  {
   "cell_type": "code",
   "execution_count": 46,
   "id": "037d4f61-2787-443f-8adc-c13c24968e9e",
   "metadata": {},
   "outputs": [
    {
     "name": "stdout",
     "output_type": "stream",
     "text": [
      "[]\n"
     ]
    }
   ],
   "source": [
    "dept.clear()\n",
    "print(dept)"
   ]
  },
  {
   "cell_type": "code",
   "execution_count": 48,
   "id": "eda65143-ff35-4bea-a673-87a75f61c04b",
   "metadata": {},
   "outputs": [],
   "source": [
    "dept = [\"ai\", \"ds\", \"da\", \"nlp\"]"
   ]
  },
  {
   "cell_type": "code",
   "execution_count": 50,
   "id": "bd2b4d0f-063d-4b7e-991a-45dd008c5547",
   "metadata": {},
   "outputs": [
    {
     "name": "stdout",
     "output_type": "stream",
     "text": [
      "1\n"
     ]
    }
   ],
   "source": [
    "index_ds = dept.index(\"ds\")\n",
    "print(index_ds)"
   ]
  },
  {
   "cell_type": "code",
   "execution_count": 52,
   "id": "c7caa32e-c896-4950-a994-1ac6d5a2faa5",
   "metadata": {},
   "outputs": [
    {
     "name": "stdout",
     "output_type": "stream",
     "text": [
      "1\n"
     ]
    }
   ],
   "source": [
    "count_ai = dept.count(\"ai\")\n",
    "print(count_ai)"
   ]
  },
  {
   "cell_type": "code",
   "execution_count": 54,
   "id": "f16c56a7-dc9f-4905-9600-24fb8a832b72",
   "metadata": {},
   "outputs": [
    {
     "name": "stdout",
     "output_type": "stream",
     "text": [
      "['ai', 'da', 'ds', 'nlp']\n"
     ]
    }
   ],
   "source": [
    "dept.sort()\n",
    "print(dept)"
   ]
  },
  {
   "cell_type": "code",
   "execution_count": 56,
   "id": "b07b96d2-f400-4749-b9d5-6e3d77a57d30",
   "metadata": {},
   "outputs": [
    {
     "name": "stdout",
     "output_type": "stream",
     "text": [
      "['nlp', 'ds', 'da', 'ai']\n"
     ]
    }
   ],
   "source": [
    "dept.reverse()\n",
    "print(dept)"
   ]
  },
  {
   "cell_type": "code",
   "execution_count": 58,
   "id": "d065e69a-d7b0-4515-bc9c-99c4110cc60f",
   "metadata": {},
   "outputs": [
    {
     "name": "stdout",
     "output_type": "stream",
     "text": [
      "['nlp', 'ds', 'da', 'ai']\n"
     ]
    }
   ],
   "source": [
    "copy_list = dept.copy()\n",
    "print(copy_list)"
   ]
  },
  {
   "cell_type": "code",
   "execution_count": 60,
   "id": "fa69c5ee-3c39-41ba-864a-bc53415c1db9",
   "metadata": {},
   "outputs": [
    {
     "data": {
      "text/plain": [
       "['nlp', 'ds', 'da']"
      ]
     },
     "execution_count": 60,
     "metadata": {},
     "output_type": "execute_result"
    }
   ],
   "source": [
    "dept.pop(-1)\n",
    "dept"
   ]
  },
  {
   "cell_type": "markdown",
   "id": "f38d2ac6-3650-47ce-9de9-deb7e0799d50",
   "metadata": {},
   "source": [
    "# 2. Tuples "
   ]
  },
  {
   "cell_type": "markdown",
   "id": "81b6aebe-771c-4c5b-98ab-c57d9f835b73",
   "metadata": {},
   "source": [
    "A tuple is an ordered, immutable collection of elements in Python. Tuples can contain elements of different types and are often used to group related data. Once a tuple is created, its elements cannot be changed."
   ]
  },
  {
   "cell_type": "markdown",
   "id": "5ca2aa3b-cab5-4c22-b81e-f59eddc94e1f",
   "metadata": {},
   "source": [
    "Tuples can be created by placing a comma-separated sequence of elements inside parentheses."
   ]
  },
  {
   "cell_type": "code",
   "execution_count": 65,
   "id": "0d2c79cc-45f3-4f82-8c5e-f79c5b5197a9",
   "metadata": {},
   "outputs": [
    {
     "data": {
      "text/plain": [
       "(10, 20, 30, 40, 50)"
      ]
     },
     "execution_count": 65,
     "metadata": {},
     "output_type": "execute_result"
    }
   ],
   "source": [
    "t = 10, 20,30,40,50\n",
    "t"
   ]
  },
  {
   "cell_type": "code",
   "execution_count": 67,
   "id": "6ad6f2dd-958f-4005-acae-f8ec4cf539f4",
   "metadata": {},
   "outputs": [
    {
     "data": {
      "text/plain": [
       "tuple"
      ]
     },
     "execution_count": 67,
     "metadata": {},
     "output_type": "execute_result"
    }
   ],
   "source": [
    "type(t)"
   ]
  },
  {
   "cell_type": "code",
   "execution_count": 69,
   "id": "54a13e60-2465-4250-96bd-c8e44f45ea8e",
   "metadata": {},
   "outputs": [
    {
     "data": {
      "text/plain": [
       "int"
      ]
     },
     "execution_count": 69,
     "metadata": {},
     "output_type": "execute_result"
    }
   ],
   "source": [
    "r,s,t=2,3,4\n",
    "type(r)"
   ]
  },
  {
   "cell_type": "code",
   "execution_count": 71,
   "id": "426a8139-503a-4800-99ad-bd56af8dfffb",
   "metadata": {},
   "outputs": [
    {
     "data": {
      "text/plain": [
       "4"
      ]
     },
     "execution_count": 71,
     "metadata": {},
     "output_type": "execute_result"
    }
   ],
   "source": [
    "t"
   ]
  },
  {
   "cell_type": "code",
   "execution_count": 73,
   "id": "1de62390-384d-4094-adf9-4d8855691d1b",
   "metadata": {},
   "outputs": [
    {
     "data": {
      "text/plain": [
       "({1, 2, 3}, [1, 2, 3], False, True, 4, 3, 2, 1, 'nlp', 'da', 'ds', 4, 4)"
      ]
     },
     "execution_count": 73,
     "metadata": {},
     "output_type": "execute_result"
    }
   ],
   "source": [
    "t = ({1, 2, 3}, [1, 2, 3], False, True, 4, 3, 2, 1, 'nlp', 'da', 'ds', 4, 4)\n",
    "t"
   ]
  },
  {
   "cell_type": "code",
   "execution_count": 75,
   "id": "b9781cfc-d769-4f24-90ff-ff6392f02fd8",
   "metadata": {},
   "outputs": [
    {
     "data": {
      "text/plain": [
       "tuple"
      ]
     },
     "execution_count": 75,
     "metadata": {},
     "output_type": "execute_result"
    }
   ],
   "source": [
    "type(t)"
   ]
  },
  {
   "cell_type": "code",
   "execution_count": 77,
   "id": "6fdaac8b-dd3c-4d0a-ae6a-926515cc8950",
   "metadata": {},
   "outputs": [
    {
     "name": "stdout",
     "output_type": "stream",
     "text": [
      "144\n"
     ]
    }
   ],
   "source": [
    "print(sys.getsizeof(t)) #tuple"
   ]
  },
  {
   "cell_type": "code",
   "execution_count": 79,
   "id": "3eed22f8-2255-4980-8a23-3816e5e39687",
   "metadata": {},
   "outputs": [
    {
     "ename": "AttributeError",
     "evalue": "'tuple' object has no attribute 'append'",
     "output_type": "error",
     "traceback": [
      "\u001b[1;31m---------------------------------------------------------------------------\u001b[0m",
      "\u001b[1;31mAttributeError\u001b[0m                            Traceback (most recent call last)",
      "Cell \u001b[1;32mIn[79], line 1\u001b[0m\n\u001b[1;32m----> 1\u001b[0m t\u001b[38;5;241m.\u001b[39mappend(\u001b[38;5;241m100\u001b[39m)\n",
      "\u001b[1;31mAttributeError\u001b[0m: 'tuple' object has no attribute 'append'"
     ]
    }
   ],
   "source": [
    "t.append(100)"
   ]
  },
  {
   "cell_type": "code",
   "execution_count": null,
   "id": "2bcbcf77-049e-4fa4-a651-8a1366c95e23",
   "metadata": {},
   "outputs": [],
   "source": [
    "del t[2]"
   ]
  },
  {
   "cell_type": "code",
   "execution_count": 82,
   "id": "d6073bb5-dbf7-4551-9010-3cafc8220f2a",
   "metadata": {},
   "outputs": [
    {
     "data": {
      "text/plain": [
       "({1, 2, 3},\n",
       " [1, 2, 3],\n",
       " False,\n",
       " True,\n",
       " 4,\n",
       " 3,\n",
       " 2,\n",
       " 1,\n",
       " 'nlp',\n",
       " 'da',\n",
       " 'ds',\n",
       " 4,\n",
       " 4,\n",
       " 1,\n",
       " 3,\n",
       " 4)"
      ]
     },
     "execution_count": 82,
     "metadata": {},
     "output_type": "execute_result"
    }
   ],
   "source": [
    "t2 = (1,3,4)\n",
    "t = t+t2\n",
    "t"
   ]
  },
  {
   "cell_type": "markdown",
   "id": "2a3fbd20-9f8b-47f4-8831-fd110a0e05e3",
   "metadata": {},
   "source": [
    "# Tuple Slicing in Python\n",
    "\n",
    "Tuples in Python are immutable sequences, typically used to store collections of heterogeneous data. Slicing is a technique used to retrieve a subset of elements from a tuple. It is similar to slicing in lists and strings.\n",
    "\n",
    "## Basic Syntax\n",
    "\n",
    "The syntax for slicing a tuple is as follows:\n",
    "\n",
    "```python\n",
    "tuple[start:stop:step]\n"
   ]
  },
  {
   "cell_type": "code",
   "execution_count": 85,
   "id": "b785729e-85ab-4b8a-9313-0c98e65a710d",
   "metadata": {},
   "outputs": [
    {
     "data": {
      "text/plain": [
       "(2, 3, 4, 5)"
      ]
     },
     "execution_count": 85,
     "metadata": {},
     "output_type": "execute_result"
    }
   ],
   "source": [
    "t3 = (2,3,4,5,76,8,9,0,10)\n",
    "t3[0:4]"
   ]
  },
  {
   "cell_type": "code",
   "execution_count": 87,
   "id": "b0814412-b82a-4eeb-be49-2f30ae40e055",
   "metadata": {},
   "outputs": [
    {
     "data": {
      "text/plain": [
       "(8, 9, 0, 10)"
      ]
     },
     "execution_count": 87,
     "metadata": {},
     "output_type": "execute_result"
    }
   ],
   "source": [
    "t3[5:]"
   ]
  },
  {
   "cell_type": "code",
   "execution_count": 89,
   "id": "d9df19b5-326e-4fcd-9672-887b88caad3f",
   "metadata": {},
   "outputs": [
    {
     "data": {
      "text/plain": [
       "(2, 3, 4, 5, 8, 9, 0, 10)"
      ]
     },
     "execution_count": 89,
     "metadata": {},
     "output_type": "execute_result"
    }
   ],
   "source": [
    "t3[0:4] + t3[5:] \n",
    "t3 = t3[0:4] + t3[5:] \n",
    "t3"
   ]
  },
  {
   "cell_type": "code",
   "execution_count": 91,
   "id": "940b2687-c13c-4f5c-a54d-7d6142dbcd51",
   "metadata": {},
   "outputs": [
    {
     "data": {
      "text/plain": [
       "3"
      ]
     },
     "execution_count": 91,
     "metadata": {},
     "output_type": "execute_result"
    }
   ],
   "source": [
    "t3.index(5)"
   ]
  },
  {
   "cell_type": "code",
   "execution_count": 93,
   "id": "d4abcb86-1f40-4046-857b-3abd64007125",
   "metadata": {},
   "outputs": [
    {
     "data": {
      "text/plain": [
       "1"
      ]
     },
     "execution_count": 93,
     "metadata": {},
     "output_type": "execute_result"
    }
   ],
   "source": [
    "t3.count(3)"
   ]
  },
  {
   "cell_type": "code",
   "execution_count": 95,
   "id": "7572bbfd-cf8e-4b0b-9ccf-a9ee37644ca4",
   "metadata": {},
   "outputs": [
    {
     "data": {
      "text/plain": [
       "(2, 3, 4, 5, 8, 9, 0, 10, 10)"
      ]
     },
     "execution_count": 95,
     "metadata": {},
     "output_type": "execute_result"
    }
   ],
   "source": [
    "t4 = (2, 3, 4, 5, 8, 9, 0, 10,10)  # duplicate value rakhee\n",
    "t4"
   ]
  },
  {
   "cell_type": "markdown",
   "id": "420d6317-0d7c-456f-b5e6-177229d0f4be",
   "metadata": {},
   "source": [
    "# 3. Sets in Python\n",
    "\n",
    "A set is an `unordered` collection of unique elements in Python. Sets are mutable, meaning you can add or remove elements, but they do not allow duplicate values.\n",
    "\n",
    "## Creating Sets\n",
    "\n",
    "Sets can be created using curly braces `{}` or the `set()` function."
   ]
  },
  {
   "cell_type": "code",
   "execution_count": 98,
   "id": "701d7565-6f27-46cc-a7d3-d2d8237ab213",
   "metadata": {},
   "outputs": [],
   "source": [
    "s1 = {1,2,3}\n",
    "s2 = {3,4,5}"
   ]
  },
  {
   "cell_type": "code",
   "execution_count": 100,
   "id": "477ff12f-f617-43fc-a511-dea6202395aa",
   "metadata": {},
   "outputs": [
    {
     "data": {
      "text/plain": [
       "{1, 2, 3}"
      ]
     },
     "execution_count": 100,
     "metadata": {},
     "output_type": "execute_result"
    }
   ],
   "source": [
    "s1"
   ]
  },
  {
   "cell_type": "code",
   "execution_count": 102,
   "id": "e721946b-8378-49cd-b720-0506afedbf35",
   "metadata": {},
   "outputs": [
    {
     "data": {
      "text/plain": [
       "{3, 4, 5}"
      ]
     },
     "execution_count": 102,
     "metadata": {},
     "output_type": "execute_result"
    }
   ],
   "source": [
    "s2"
   ]
  },
  {
   "cell_type": "markdown",
   "id": "a9c21d8b-1831-4cc6-8c8d-434695ea8f7b",
   "metadata": {},
   "source": [
    "# Basic operation of set"
   ]
  },
  {
   "cell_type": "code",
   "execution_count": 105,
   "id": "b45af181-96e2-4975-a91f-6f2c5a322bc6",
   "metadata": {},
   "outputs": [
    {
     "data": {
      "text/plain": [
       "{1, 2, 3, 4, 5}"
      ]
     },
     "execution_count": 105,
     "metadata": {},
     "output_type": "execute_result"
    }
   ],
   "source": [
    "s1.union(s2)"
   ]
  },
  {
   "cell_type": "code",
   "execution_count": 107,
   "id": "e1537272-8403-4b31-9ab5-a52ffc0dedd1",
   "metadata": {},
   "outputs": [
    {
     "data": {
      "text/plain": [
       "{3}"
      ]
     },
     "execution_count": 107,
     "metadata": {},
     "output_type": "execute_result"
    }
   ],
   "source": [
    "s1.intersection(s2)"
   ]
  },
  {
   "cell_type": "code",
   "execution_count": 109,
   "id": "eb78e748-83d3-4fb3-904c-c81c01754f8e",
   "metadata": {},
   "outputs": [
    {
     "data": {
      "text/plain": [
       "{1, 2}"
      ]
     },
     "execution_count": 109,
     "metadata": {},
     "output_type": "execute_result"
    }
   ],
   "source": [
    "s1.difference(s2)"
   ]
  },
  {
   "cell_type": "code",
   "execution_count": 111,
   "id": "036bb33a-4449-441e-840b-d9df83f7f11c",
   "metadata": {},
   "outputs": [
    {
     "data": {
      "text/plain": [
       "{1, 2, 4, 5}"
      ]
     },
     "execution_count": 111,
     "metadata": {},
     "output_type": "execute_result"
    }
   ],
   "source": [
    "s1.symmetric_difference(s2)"
   ]
  },
  {
   "cell_type": "code",
   "execution_count": 113,
   "id": "4de46af2-6054-4c5d-9a27-3278e77e5179",
   "metadata": {},
   "outputs": [
    {
     "data": {
      "text/plain": [
       "{4, 5}"
      ]
     },
     "execution_count": 113,
     "metadata": {},
     "output_type": "execute_result"
    }
   ],
   "source": [
    "s2.difference(s1)"
   ]
  },
  {
   "cell_type": "code",
   "execution_count": 115,
   "id": "89e9d673-bade-4b8c-b68f-4bfadf0772e2",
   "metadata": {},
   "outputs": [
    {
     "data": {
      "text/plain": [
       "{1, 2, 3, 4, 5}"
      ]
     },
     "execution_count": 115,
     "metadata": {},
     "output_type": "execute_result"
    }
   ],
   "source": [
    "s1 | s2 #union"
   ]
  },
  {
   "cell_type": "code",
   "execution_count": 117,
   "id": "8ff42f01-ffdb-4d75-893e-3998f3a04b88",
   "metadata": {},
   "outputs": [
    {
     "data": {
      "text/plain": [
       "{3}"
      ]
     },
     "execution_count": 117,
     "metadata": {},
     "output_type": "execute_result"
    }
   ],
   "source": [
    "s1 & s2 #intersection"
   ]
  },
  {
   "cell_type": "markdown",
   "id": "f789a7d9-02fd-423e-8ed3-6154a718782e",
   "metadata": {},
   "source": [
    "# Set Methods"
   ]
  },
  {
   "cell_type": "code",
   "execution_count": 120,
   "id": "d345a5f9-51f9-4e9b-b41f-764d986c395f",
   "metadata": {},
   "outputs": [
    {
     "data": {
      "text/plain": [
       "{1, 2, 3}"
      ]
     },
     "execution_count": 120,
     "metadata": {},
     "output_type": "execute_result"
    }
   ],
   "source": [
    "s1"
   ]
  },
  {
   "cell_type": "code",
   "execution_count": 122,
   "id": "1fe1ab69-b7a2-45b9-be33-c5e082e8ab38",
   "metadata": {},
   "outputs": [],
   "source": [
    "s1.add(10)"
   ]
  },
  {
   "cell_type": "code",
   "execution_count": 124,
   "id": "b80ad627-f450-4fef-be09-cc863b9e7e16",
   "metadata": {},
   "outputs": [
    {
     "data": {
      "text/plain": [
       "{1, 2, 3, 10}"
      ]
     },
     "execution_count": 124,
     "metadata": {},
     "output_type": "execute_result"
    }
   ],
   "source": [
    "s1"
   ]
  },
  {
   "cell_type": "code",
   "execution_count": 126,
   "id": "c732c92d-1074-4f67-b3d8-9e2636bb044f",
   "metadata": {},
   "outputs": [],
   "source": [
    "s1.remove(1) #index na kintu ; eta value"
   ]
  },
  {
   "cell_type": "markdown",
   "id": "ca6c0f31-4d27-4b77-8eeb-3dc1daee4ac4",
   "metadata": {},
   "source": [
    "# 4. Frozen Sets in Python\n",
    "\n",
    "A `frozenset` is an `immutable version` of a set. Once created, elements cannot be added or removed from a `frozenset`. This makes `frozenset` hashable and eligible to be used as keys in dictionaries or elements of other sets.\n",
    "\n",
    "## Creating Frozen Sets\n",
    "\n",
    "Frozen sets can be created using the `frozenset()` function."
   ]
  },
  {
   "cell_type": "code",
   "execution_count": 129,
   "id": "c8918dc7-1880-410d-b229-32c14bab4697",
   "metadata": {},
   "outputs": [],
   "source": [
    "frozen_fruits=frozenset({'ai', 'ds', 'ml'})"
   ]
  },
  {
   "cell_type": "code",
   "execution_count": 131,
   "id": "28b3fe97-4a00-4393-9227-5dd9e394aed2",
   "metadata": {},
   "outputs": [
    {
     "data": {
      "text/plain": [
       "frozenset"
      ]
     },
     "execution_count": 131,
     "metadata": {},
     "output_type": "execute_result"
    }
   ],
   "source": [
    "type(frozen_fruits)"
   ]
  },
  {
   "cell_type": "code",
   "execution_count": 133,
   "id": "314dc4e0-2193-4452-9815-d15eb8c17254",
   "metadata": {},
   "outputs": [
    {
     "ename": "AttributeError",
     "evalue": "'frozenset' object has no attribute 'add'",
     "output_type": "error",
     "traceback": [
      "\u001b[1;31m---------------------------------------------------------------------------\u001b[0m",
      "\u001b[1;31mAttributeError\u001b[0m                            Traceback (most recent call last)",
      "Cell \u001b[1;32mIn[133], line 1\u001b[0m\n\u001b[1;32m----> 1\u001b[0m frozen_fruits\u001b[38;5;241m.\u001b[39madd(\u001b[38;5;124m'\u001b[39m\u001b[38;5;124mme\u001b[39m\u001b[38;5;124m'\u001b[39m)\n",
      "\u001b[1;31mAttributeError\u001b[0m: 'frozenset' object has no attribute 'add'"
     ]
    }
   ],
   "source": [
    "frozen_fruits.add('me')"
   ]
  },
  {
   "cell_type": "code",
   "execution_count": 135,
   "id": "10b68ec4-425b-442e-97fd-deb4f0148c5a",
   "metadata": {},
   "outputs": [
    {
     "ename": "AttributeError",
     "evalue": "'frozenset' object has no attribute 'remove'",
     "output_type": "error",
     "traceback": [
      "\u001b[1;31m---------------------------------------------------------------------------\u001b[0m",
      "\u001b[1;31mAttributeError\u001b[0m                            Traceback (most recent call last)",
      "Cell \u001b[1;32mIn[135], line 1\u001b[0m\n\u001b[1;32m----> 1\u001b[0m frozen_fruits\u001b[38;5;241m.\u001b[39mremove(\u001b[38;5;124m'\u001b[39m\u001b[38;5;124mml\u001b[39m\u001b[38;5;124m'\u001b[39m)\n",
      "\u001b[1;31mAttributeError\u001b[0m: 'frozenset' object has no attribute 'remove'"
     ]
    }
   ],
   "source": [
    "frozen_fruits.remove('ml')"
   ]
  },
  {
   "cell_type": "code",
   "execution_count": 137,
   "id": "077d2315-d6b5-4ba0-853f-d15596bbcbf1",
   "metadata": {},
   "outputs": [
    {
     "data": {
      "text/plain": [
       "{2, 3, 10}"
      ]
     },
     "execution_count": 137,
     "metadata": {},
     "output_type": "execute_result"
    }
   ],
   "source": [
    "s1"
   ]
  },
  {
   "cell_type": "code",
   "execution_count": 139,
   "id": "24fa93df-2bce-4a49-bdac-9a4df00d2019",
   "metadata": {},
   "outputs": [],
   "source": [
    "s1.remove(2)"
   ]
  },
  {
   "cell_type": "code",
   "execution_count": 141,
   "id": "1ab8b6a4-9de0-4c11-bfcd-9988f61a7098",
   "metadata": {},
   "outputs": [],
   "source": [
    "s1.discard(2)"
   ]
  },
  {
   "cell_type": "code",
   "execution_count": 143,
   "id": "d46f1c5d-2473-42af-a807-8666cb8831c2",
   "metadata": {},
   "outputs": [
    {
     "data": {
      "text/plain": [
       "{3, 10}"
      ]
     },
     "execution_count": 143,
     "metadata": {},
     "output_type": "execute_result"
    }
   ],
   "source": [
    "s1"
   ]
  },
  {
   "cell_type": "code",
   "execution_count": 145,
   "id": "8a79ff10-9f5e-43a9-9c79-0d5dd8a8216b",
   "metadata": {},
   "outputs": [
    {
     "data": {
      "text/plain": [
       "{3, 10}"
      ]
     },
     "execution_count": 145,
     "metadata": {},
     "output_type": "execute_result"
    }
   ],
   "source": [
    "s1.discard(1) # jodi thake tahole delete korbe r jodi na thake tahole ghumai jabe\n",
    "s1"
   ]
  },
  {
   "cell_type": "markdown",
   "id": "652a43dd-1b21-421c-9222-2f0a7e046ae8",
   "metadata": {},
   "source": [
    "# 5. Dictionaries in Python\n",
    "\n",
    "A dictionary is an unordered collection of key-value pairs. Keys must be unique and immutable (such as strings, numbers, or tuples), while values can be of any data type.\n",
    "\n",
    "## Creating Dictionaries\n",
    "\n",
    "Dictionaries can be created using curly braces `{}` with key-value pairs or the `dict()` function."
   ]
  },
  {
   "cell_type": "code",
   "execution_count": 148,
   "id": "d614badb-4bc5-40e2-acd3-2f7eba9ec9ad",
   "metadata": {},
   "outputs": [
    {
     "name": "stdout",
     "output_type": "stream",
     "text": [
      "{'name': 'Anika', 'age': 22, 'city': 'chottogram'}\n"
     ]
    }
   ],
   "source": [
    "# Creating a dictionary using curly braces\n",
    "person = {\n",
    "    \"name\": \"Anika\",\n",
    "    \"age\": 22,\n",
    "    \"city\": \"chottogram\"\n",
    "}\n",
    "print(person) "
   ]
  },
  {
   "cell_type": "code",
   "execution_count": 150,
   "id": "69e0041c-b91e-4975-b592-fa108566dcfb",
   "metadata": {},
   "outputs": [
    {
     "name": "stdout",
     "output_type": "stream",
     "text": [
      "{'name': 'Anika', 'age': 22, 'city': 'chittagong'}\n"
     ]
    }
   ],
   "source": [
    "# Creating a dictionary using the dict() function\n",
    "\n",
    "person = dict(name=\"Anika\", age=22, city=\"chittagong\")\n",
    "print(person) "
   ]
  },
  {
   "cell_type": "code",
   "execution_count": 152,
   "id": "15f43e52-6758-4b43-bac1-86903c531fd9",
   "metadata": {},
   "outputs": [
    {
     "data": {
      "text/plain": [
       "dict"
      ]
     },
     "execution_count": 152,
     "metadata": {},
     "output_type": "execute_result"
    }
   ],
   "source": [
    "type(person)"
   ]
  },
  {
   "cell_type": "code",
   "execution_count": 154,
   "id": "6b25cd0d-fd77-4f27-8944-07b01733542d",
   "metadata": {},
   "outputs": [
    {
     "data": {
      "text/plain": [
       "dict_keys(['name', 'age', 'city'])"
      ]
     },
     "execution_count": 154,
     "metadata": {},
     "output_type": "execute_result"
    }
   ],
   "source": [
    "person.keys()"
   ]
  },
  {
   "cell_type": "code",
   "execution_count": 156,
   "id": "e1ca108e-f7fb-4ab7-a0f8-f19d33cde6f8",
   "metadata": {},
   "outputs": [
    {
     "data": {
      "text/plain": [
       "dict_values(['Anika', 22, 'chittagong'])"
      ]
     },
     "execution_count": 156,
     "metadata": {},
     "output_type": "execute_result"
    }
   ],
   "source": [
    "person.values()"
   ]
  },
  {
   "cell_type": "code",
   "execution_count": 158,
   "id": "0d3d32cc-6216-405e-85ff-168b013b45b3",
   "metadata": {},
   "outputs": [],
   "source": [
    "person = { \n",
    "    \"name\": [\"Abrar\", 'Mahmud'], \n",
    "    \"age\": [18, 20], \n",
    "    \"city\": [\"Dhaka\", 'chittagong'], \n",
    "    \"Occu\": ['Engineer','Rider'] \n",
    "}"
   ]
  },
  {
   "cell_type": "code",
   "execution_count": 160,
   "id": "6c94112f-5c76-43f7-b02a-e87e39c85ba4",
   "metadata": {},
   "outputs": [
    {
     "data": {
      "text/plain": [
       "{'name': ['Abrar', 'Mahmud'],\n",
       " 'age': [18, 20],\n",
       " 'city': ['Dhaka', 'chittagong'],\n",
       " 'Occu': ['Engineer', 'Rider']}"
      ]
     },
     "execution_count": 160,
     "metadata": {},
     "output_type": "execute_result"
    }
   ],
   "source": [
    "person"
   ]
  },
  {
   "cell_type": "markdown",
   "id": "712490aa-c8a1-4a87-b5a5-c6fb6ed9926b",
   "metadata": {},
   "source": [
    "# User Input of Dictionary"
   ]
  },
  {
   "cell_type": "code",
   "execution_count": 167,
   "id": "ffdf1c37-56a7-42a3-845e-8325acc2b73f",
   "metadata": {},
   "outputs": [
    {
     "name": "stdin",
     "output_type": "stream",
     "text": [
      " 2\n",
      " num1\n",
      " 10\n",
      " num2\n",
      " 20\n"
     ]
    },
    {
     "name": "stdout",
     "output_type": "stream",
     "text": [
      "{'num1': 10, 'num2': 20}\n"
     ]
    }
   ],
   "source": [
    "d = {}    #kind of array\n",
    "n = int(input())\n",
    "\n",
    "for k in range(n):\n",
    "    keys = input()\n",
    "    value = int(input())\n",
    "    d[keys] = value\n",
    "\n",
    "print(d)"
   ]
  },
  {
   "cell_type": "code",
   "execution_count": 169,
   "id": "a2835689-4f40-4245-8c88-036533393279",
   "metadata": {},
   "outputs": [
    {
     "data": {
      "text/plain": [
       "dict_keys(['num1', 'num2'])"
      ]
     },
     "execution_count": 169,
     "metadata": {},
     "output_type": "execute_result"
    }
   ],
   "source": [
    "d.keys()"
   ]
  },
  {
   "cell_type": "markdown",
   "id": "bd463b64-8036-46f8-94c4-fbc122213e73",
   "metadata": {},
   "source": [
    "# List Comprehension: Elegant Way to Create Lists\n",
    "\n",
    "List comprehension provides a concise way to create lists in Python. It consists of brackets containing an expression followed by a `for` clause, and optionally `if` clauses. List comprehensions are a more compact and readable alternative to using loops for creating lists.ble."
   ]
  },
  {
   "cell_type": "markdown",
   "id": "73deda32-ff11-448e-ba10-db33438d57c0",
   "metadata": {},
   "source": [
    "## Components\n",
    "1. expression: The expression is the value or operation that is applied to each element. <br>\n",
    "2. item: The variable that takes the value of the item inside the iterable. <br>\n",
    "3. iterable: A collection of elements (e.g., list, tuple, string) to iterate over. <br>\n",
    "4. condition (optional): A condition to filter items from the iterable."
   ]
  },
  {
   "cell_type": "code",
   "execution_count": 173,
   "id": "6480d116-a72d-49f5-b221-25e07e794ddc",
   "metadata": {},
   "outputs": [
    {
     "name": "stdout",
     "output_type": "stream",
     "text": [
      "1\n",
      "3\n",
      "5\n",
      "7\n",
      "9\n"
     ]
    }
   ],
   "source": [
    "for i in range(1,10): \n",
    "    if i%2==0:  \n",
    "        continue \n",
    "    print(i)"
   ]
  },
  {
   "cell_type": "code",
   "execution_count": 175,
   "id": "31f38e02-9d28-4d25-9516-e9fcdb6328bc",
   "metadata": {},
   "outputs": [
    {
     "data": {
      "text/plain": [
       "[1, 3, 5, 7, 9]"
      ]
     },
     "execution_count": 175,
     "metadata": {},
     "output_type": "execute_result"
    }
   ],
   "source": [
    "[i for i in range(10) if i%2!=0]"
   ]
  },
  {
   "cell_type": "code",
   "execution_count": 177,
   "id": "44fba6af-d787-4937-ba5c-30bb83496427",
   "metadata": {},
   "outputs": [
    {
     "data": {
      "text/plain": [
       "[0, 1, 4, 9, 16, 25, 36, 49, 64, 81]"
      ]
     },
     "execution_count": 177,
     "metadata": {},
     "output_type": "execute_result"
    }
   ],
   "source": [
    "squares = [x**2 for x in range(10)]\n",
    "squares"
   ]
  },
  {
   "cell_type": "code",
   "execution_count": 179,
   "id": "121e9dfa-a724-48a9-a61e-e1e3b035c327",
   "metadata": {},
   "outputs": [
    {
     "name": "stdout",
     "output_type": "stream",
     "text": [
      "5\n",
      "6\n",
      "7\n",
      "8\n",
      "9\n",
      "10\n",
      "11\n",
      "12\n",
      "13\n",
      "14\n"
     ]
    }
   ],
   "source": [
    "squares = [print(x+5) for x in range(10)]"
   ]
  },
  {
   "cell_type": "markdown",
   "id": "b2923dba-d7cf-41e6-b83d-b419d1bc4fba",
   "metadata": {},
   "source": [
    "# Tuple Comprehension in Python\n",
    "\n",
    "Although Python does not support tuple comprehensions directly, you can achieve similar functionality using generator expressions or by converting a list comprehension to a tuple.\n",
    "\n",
    "## Generator\n",
    "A generator in Python is a special type of `iterable` that allows you to iterate over a sequence of values. Unlike lists, which store all values in memory, a generator computes each value on the fly and yields it one at a time, which makes it more memory efficient, especially for large datasets. <br>\n",
    "\n",
    "#Generator expression to generate squares of even numbers from 0 to 9 <br>\n",
    "even_squares = (x**2 for x in range(10) if x % 2 == 0)\n",
    "\n",
    "## Using Generator Expressions\n",
    "\n",
    "A generator expression is similar to a list comprehension, but it uses parentheses `()` instead of square brackets `[]`. It generates items one by one and is more memory efficient than a list comprehension.\n"
   ]
  },
  {
   "cell_type": "code",
   "execution_count": 182,
   "id": "08cef3c8-7d6f-4c83-8e15-a794527310af",
   "metadata": {},
   "outputs": [
    {
     "data": {
      "text/plain": [
       "[0, 1, 4, 9, 16, 25, 36, 49, 64, 81]"
      ]
     },
     "execution_count": 182,
     "metadata": {},
     "output_type": "execute_result"
    }
   ],
   "source": [
    "li = [x**2 for x in range(10)]  # list 3rd breket\n",
    "li"
   ]
  },
  {
   "cell_type": "code",
   "execution_count": 184,
   "id": "9f1ec56c-9cac-49f2-aaab-5463641eb188",
   "metadata": {},
   "outputs": [
    {
     "data": {
      "text/plain": [
       "<generator object <genexpr> at 0x000002272DFCB6B0>"
      ]
     },
     "execution_count": 184,
     "metadata": {},
     "output_type": "execute_result"
    }
   ],
   "source": [
    "gen_expr = (x**2 for x in range(10))  # tupel 1st breket\n",
    "gen_expr"
   ]
  },
  {
   "cell_type": "code",
   "execution_count": 186,
   "id": "41c8767a-0f43-4671-b51c-1c21713bf453",
   "metadata": {},
   "outputs": [
    {
     "data": {
      "text/plain": [
       "(0, 1, 4, 9, 16, 25, 36, 49, 64, 81)"
      ]
     },
     "execution_count": 186,
     "metadata": {},
     "output_type": "execute_result"
    }
   ],
   "source": [
    "tuple(gen_expr)"
   ]
  },
  {
   "cell_type": "code",
   "execution_count": 188,
   "id": "caee4024-7d16-4aef-873b-591308519fab",
   "metadata": {},
   "outputs": [
    {
     "name": "stdout",
     "output_type": "stream",
     "text": [
      "184\n",
      "40\n"
     ]
    }
   ],
   "source": [
    "print(sys.getsizeof(li))\n",
    "print(sys.getsizeof(tuple(gen_expr)))"
   ]
  },
  {
   "cell_type": "code",
   "execution_count": 190,
   "id": "527499f1-77f4-4d8c-b018-25a731e54089",
   "metadata": {},
   "outputs": [
    {
     "name": "stdout",
     "output_type": "stream",
     "text": [
      "120\n"
     ]
    }
   ],
   "source": [
    "print(sys.getsizeof(tuple(li)))  #tuple e size kom lage list er ceye"
   ]
  },
  {
   "cell_type": "markdown",
   "id": "4b617c36-888a-4cf3-bf86-67157efd6ddd",
   "metadata": {},
   "source": [
    "# Pandas DataFrame"
   ]
  },
  {
   "cell_type": "markdown",
   "id": "e1ce5795-c85b-4f4f-a74d-3af2b27d7577",
   "metadata": {},
   "source": [
    " !pip install library_name\r",
    "     #!pip install pandas"
   ]
  },
  {
   "cell_type": "code",
   "execution_count": 194,
   "id": "83903aa7-431c-4e64-9da0-f4abfae3f9c2",
   "metadata": {},
   "outputs": [
    {
     "name": "stdout",
     "output_type": "stream",
     "text": [
      "Requirement already satisfied: pandas in c:\\users\\lenovo\\anaconda3\\lib\\site-packages (2.2.2)\n",
      "Requirement already satisfied: numpy>=1.26.0 in c:\\users\\lenovo\\anaconda3\\lib\\site-packages (from pandas) (1.26.4)\n",
      "Requirement already satisfied: python-dateutil>=2.8.2 in c:\\users\\lenovo\\anaconda3\\lib\\site-packages (from pandas) (2.9.0.post0)\n",
      "Requirement already satisfied: pytz>=2020.1 in c:\\users\\lenovo\\anaconda3\\lib\\site-packages (from pandas) (2024.1)\n",
      "Requirement already satisfied: tzdata>=2022.7 in c:\\users\\lenovo\\anaconda3\\lib\\site-packages (from pandas) (2023.3)\n",
      "Requirement already satisfied: six>=1.5 in c:\\users\\lenovo\\anaconda3\\lib\\site-packages (from python-dateutil>=2.8.2->pandas) (1.16.0)\n"
     ]
    }
   ],
   "source": [
    "!pip install pandas"
   ]
  },
  {
   "cell_type": "code",
   "execution_count": 195,
   "id": "79ed4c65-ecde-4266-8b8e-a76fe02ac522",
   "metadata": {},
   "outputs": [],
   "source": [
    "import pandas as pd"
   ]
  },
  {
   "cell_type": "code",
   "execution_count": 196,
   "id": "38eb730a-1df1-4f90-bf59-1798828f4bcf",
   "metadata": {},
   "outputs": [],
   "source": [
    "people = [\n",
    "    [\"Anika\", 22, \"chittagong\"],\n",
    "    [\"Abrar\", 18, \"Berlin\"],\n",
    "    [\"Tawsif\", 20, \"Hamburg\"],\n",
    "    [\"Razia\", 35, \"Munich\"]\n",
    "]"
   ]
  },
  {
   "cell_type": "code",
   "execution_count": 197,
   "id": "a1466314-63a4-4241-b9dd-6a5fc55e4496",
   "metadata": {},
   "outputs": [
    {
     "data": {
      "text/plain": [
       "[['Anika', 22, 'chittagong'],\n",
       " ['Abrar', 18, 'Berlin'],\n",
       " ['Tawsif', 20, 'Hamburg'],\n",
       " ['Razia', 35, 'Munich']]"
      ]
     },
     "execution_count": 197,
     "metadata": {},
     "output_type": "execute_result"
    }
   ],
   "source": [
    "people"
   ]
  },
  {
   "cell_type": "code",
   "execution_count": 204,
   "id": "63a6c805-d22c-4af5-aaaf-890cec098f57",
   "metadata": {},
   "outputs": [],
   "source": [
    "df = pd.DataFrame(people, columns=['name','age','city'])"
   ]
  },
  {
   "cell_type": "code",
   "execution_count": 206,
   "id": "0cd5bba8-6001-4415-9482-4b79e1d5d135",
   "metadata": {},
   "outputs": [
    {
     "data": {
      "text/html": [
       "<div>\n",
       "<style scoped>\n",
       "    .dataframe tbody tr th:only-of-type {\n",
       "        vertical-align: middle;\n",
       "    }\n",
       "\n",
       "    .dataframe tbody tr th {\n",
       "        vertical-align: top;\n",
       "    }\n",
       "\n",
       "    .dataframe thead th {\n",
       "        text-align: right;\n",
       "    }\n",
       "</style>\n",
       "<table border=\"1\" class=\"dataframe\">\n",
       "  <thead>\n",
       "    <tr style=\"text-align: right;\">\n",
       "      <th></th>\n",
       "      <th>name</th>\n",
       "      <th>age</th>\n",
       "      <th>city</th>\n",
       "    </tr>\n",
       "  </thead>\n",
       "  <tbody>\n",
       "    <tr>\n",
       "      <th>0</th>\n",
       "      <td>Anika</td>\n",
       "      <td>22</td>\n",
       "      <td>chittagong</td>\n",
       "    </tr>\n",
       "    <tr>\n",
       "      <th>1</th>\n",
       "      <td>Abrar</td>\n",
       "      <td>18</td>\n",
       "      <td>Berlin</td>\n",
       "    </tr>\n",
       "    <tr>\n",
       "      <th>2</th>\n",
       "      <td>Tawsif</td>\n",
       "      <td>20</td>\n",
       "      <td>Hamburg</td>\n",
       "    </tr>\n",
       "    <tr>\n",
       "      <th>3</th>\n",
       "      <td>Razia</td>\n",
       "      <td>35</td>\n",
       "      <td>Munich</td>\n",
       "    </tr>\n",
       "  </tbody>\n",
       "</table>\n",
       "</div>"
      ],
      "text/plain": [
       "     name  age        city\n",
       "0   Anika   22  chittagong\n",
       "1   Abrar   18      Berlin\n",
       "2  Tawsif   20     Hamburg\n",
       "3   Razia   35      Munich"
      ]
     },
     "execution_count": 206,
     "metadata": {},
     "output_type": "execute_result"
    }
   ],
   "source": [
    "df"
   ]
  },
  {
   "cell_type": "markdown",
   "id": "d20f045d-950f-436a-ad81-831948bf7574",
   "metadata": {},
   "source": [
    "# Dictionary"
   ]
  },
  {
   "cell_type": "code",
   "execution_count": 213,
   "id": "717d2efa-e9b0-4794-81d5-2a4c05fc6d21",
   "metadata": {},
   "outputs": [],
   "source": [
    "person = {\n",
    "    \"name\": [\"Anika\",\"Nawer\"],\n",
    "    \"age\": [22, 20],\n",
    "    \"city\": [\"Munich\", 'Berlin']\n",
    "}"
   ]
  },
  {
   "cell_type": "code",
   "execution_count": 215,
   "id": "891e02d5-161a-4a63-98b8-4f9c5817c73f",
   "metadata": {},
   "outputs": [
    {
     "data": {
      "text/plain": [
       "{'name': ['Anika', 'Nawer'], 'age': [22, 20], 'city': ['Munich', 'Berlin']}"
      ]
     },
     "execution_count": 215,
     "metadata": {},
     "output_type": "execute_result"
    }
   ],
   "source": [
    "person"
   ]
  },
  {
   "cell_type": "code",
   "execution_count": 217,
   "id": "60cb14f2-34e1-4882-8209-5dcb31696843",
   "metadata": {},
   "outputs": [],
   "source": [
    "df = pd.DataFrame(person)"
   ]
  },
  {
   "cell_type": "code",
   "execution_count": 219,
   "id": "388f2503-1cbe-4bf0-b102-d01998f77910",
   "metadata": {},
   "outputs": [
    {
     "data": {
      "text/html": [
       "<div>\n",
       "<style scoped>\n",
       "    .dataframe tbody tr th:only-of-type {\n",
       "        vertical-align: middle;\n",
       "    }\n",
       "\n",
       "    .dataframe tbody tr th {\n",
       "        vertical-align: top;\n",
       "    }\n",
       "\n",
       "    .dataframe thead th {\n",
       "        text-align: right;\n",
       "    }\n",
       "</style>\n",
       "<table border=\"1\" class=\"dataframe\">\n",
       "  <thead>\n",
       "    <tr style=\"text-align: right;\">\n",
       "      <th></th>\n",
       "      <th>name</th>\n",
       "      <th>age</th>\n",
       "      <th>city</th>\n",
       "    </tr>\n",
       "  </thead>\n",
       "  <tbody>\n",
       "    <tr>\n",
       "      <th>0</th>\n",
       "      <td>Anika</td>\n",
       "      <td>22</td>\n",
       "      <td>Munich</td>\n",
       "    </tr>\n",
       "    <tr>\n",
       "      <th>1</th>\n",
       "      <td>Nawer</td>\n",
       "      <td>20</td>\n",
       "      <td>Berlin</td>\n",
       "    </tr>\n",
       "  </tbody>\n",
       "</table>\n",
       "</div>"
      ],
      "text/plain": [
       "    name  age    city\n",
       "0  Anika   22  Munich\n",
       "1  Nawer   20  Berlin"
      ]
     },
     "execution_count": 219,
     "metadata": {},
     "output_type": "execute_result"
    }
   ],
   "source": [
    "df"
   ]
  },
  {
   "cell_type": "code",
   "execution_count": 229,
   "id": "f36e7155-92f0-414f-8021-294fd113c050",
   "metadata": {},
   "outputs": [
    {
     "data": {
      "text/html": [
       "<div>\n",
       "<style scoped>\n",
       "    .dataframe tbody tr th:only-of-type {\n",
       "        vertical-align: middle;\n",
       "    }\n",
       "\n",
       "    .dataframe tbody tr th {\n",
       "        vertical-align: top;\n",
       "    }\n",
       "\n",
       "    .dataframe thead th {\n",
       "        text-align: right;\n",
       "    }\n",
       "</style>\n",
       "<table border=\"1\" class=\"dataframe\">\n",
       "  <thead>\n",
       "    <tr style=\"text-align: right;\">\n",
       "      <th></th>\n",
       "      <th>name</th>\n",
       "      <th>age</th>\n",
       "    </tr>\n",
       "  </thead>\n",
       "  <tbody>\n",
       "    <tr>\n",
       "      <th>0</th>\n",
       "      <td>Anika</td>\n",
       "      <td>22</td>\n",
       "    </tr>\n",
       "    <tr>\n",
       "      <th>1</th>\n",
       "      <td>Nawer</td>\n",
       "      <td>20</td>\n",
       "    </tr>\n",
       "  </tbody>\n",
       "</table>\n",
       "</div>"
      ],
      "text/plain": [
       "    name  age\n",
       "0  Anika   22\n",
       "1  Nawer   20"
      ]
     },
     "execution_count": 229,
     "metadata": {},
     "output_type": "execute_result"
    }
   ],
   "source": [
    "df.drop(['city'], axis=1)"
   ]
  },
  {
   "cell_type": "code",
   "execution_count": 231,
   "id": "8b054a88-9f22-49ee-9ab7-24e198ee9b31",
   "metadata": {},
   "outputs": [
    {
     "data": {
      "text/html": [
       "<div>\n",
       "<style scoped>\n",
       "    .dataframe tbody tr th:only-of-type {\n",
       "        vertical-align: middle;\n",
       "    }\n",
       "\n",
       "    .dataframe tbody tr th {\n",
       "        vertical-align: top;\n",
       "    }\n",
       "\n",
       "    .dataframe thead th {\n",
       "        text-align: right;\n",
       "    }\n",
       "</style>\n",
       "<table border=\"1\" class=\"dataframe\">\n",
       "  <thead>\n",
       "    <tr style=\"text-align: right;\">\n",
       "      <th></th>\n",
       "      <th>name</th>\n",
       "      <th>age</th>\n",
       "    </tr>\n",
       "  </thead>\n",
       "  <tbody>\n",
       "    <tr>\n",
       "      <th>0</th>\n",
       "      <td>Anika</td>\n",
       "      <td>22</td>\n",
       "    </tr>\n",
       "    <tr>\n",
       "      <th>1</th>\n",
       "      <td>Nawer</td>\n",
       "      <td>20</td>\n",
       "    </tr>\n",
       "  </tbody>\n",
       "</table>\n",
       "</div>"
      ],
      "text/plain": [
       "    name  age\n",
       "0  Anika   22\n",
       "1  Nawer   20"
      ]
     },
     "execution_count": 231,
     "metadata": {},
     "output_type": "execute_result"
    }
   ],
   "source": [
    "df.drop(['city'], axis='columns')"
   ]
  },
  {
   "cell_type": "code",
   "execution_count": 233,
   "id": "33679177-b00a-4669-bbd2-9637c7296aba",
   "metadata": {},
   "outputs": [
    {
     "data": {
      "text/html": [
       "<div>\n",
       "<style scoped>\n",
       "    .dataframe tbody tr th:only-of-type {\n",
       "        vertical-align: middle;\n",
       "    }\n",
       "\n",
       "    .dataframe tbody tr th {\n",
       "        vertical-align: top;\n",
       "    }\n",
       "\n",
       "    .dataframe thead th {\n",
       "        text-align: right;\n",
       "    }\n",
       "</style>\n",
       "<table border=\"1\" class=\"dataframe\">\n",
       "  <thead>\n",
       "    <tr style=\"text-align: right;\">\n",
       "      <th></th>\n",
       "      <th>name</th>\n",
       "      <th>age</th>\n",
       "      <th>city</th>\n",
       "    </tr>\n",
       "  </thead>\n",
       "  <tbody>\n",
       "    <tr>\n",
       "      <th>0</th>\n",
       "      <td>Anika</td>\n",
       "      <td>22</td>\n",
       "      <td>Munich</td>\n",
       "    </tr>\n",
       "    <tr>\n",
       "      <th>1</th>\n",
       "      <td>Nawer</td>\n",
       "      <td>20</td>\n",
       "      <td>Berlin</td>\n",
       "    </tr>\n",
       "  </tbody>\n",
       "</table>\n",
       "</div>"
      ],
      "text/plain": [
       "    name  age    city\n",
       "0  Anika   22  Munich\n",
       "1  Nawer   20  Berlin"
      ]
     },
     "execution_count": 233,
     "metadata": {},
     "output_type": "execute_result"
    }
   ],
   "source": [
    "df"
   ]
  },
  {
   "cell_type": "code",
   "execution_count": 235,
   "id": "f3a3156c-8134-49e5-ad96-c47d886dd262",
   "metadata": {},
   "outputs": [],
   "source": [
    "df = df.drop(['age'], axis='columns') #column delete"
   ]
  },
  {
   "cell_type": "code",
   "execution_count": 237,
   "id": "e2b5e4e7-21ae-45f7-853f-841b46ba2b7f",
   "metadata": {},
   "outputs": [
    {
     "data": {
      "text/html": [
       "<div>\n",
       "<style scoped>\n",
       "    .dataframe tbody tr th:only-of-type {\n",
       "        vertical-align: middle;\n",
       "    }\n",
       "\n",
       "    .dataframe tbody tr th {\n",
       "        vertical-align: top;\n",
       "    }\n",
       "\n",
       "    .dataframe thead th {\n",
       "        text-align: right;\n",
       "    }\n",
       "</style>\n",
       "<table border=\"1\" class=\"dataframe\">\n",
       "  <thead>\n",
       "    <tr style=\"text-align: right;\">\n",
       "      <th></th>\n",
       "      <th>name</th>\n",
       "      <th>city</th>\n",
       "    </tr>\n",
       "  </thead>\n",
       "  <tbody>\n",
       "    <tr>\n",
       "      <th>0</th>\n",
       "      <td>Anika</td>\n",
       "      <td>Munich</td>\n",
       "    </tr>\n",
       "    <tr>\n",
       "      <th>1</th>\n",
       "      <td>Nawer</td>\n",
       "      <td>Berlin</td>\n",
       "    </tr>\n",
       "  </tbody>\n",
       "</table>\n",
       "</div>"
      ],
      "text/plain": [
       "    name    city\n",
       "0  Anika  Munich\n",
       "1  Nawer  Berlin"
      ]
     },
     "execution_count": 237,
     "metadata": {},
     "output_type": "execute_result"
    }
   ],
   "source": [
    "df"
   ]
  },
  {
   "cell_type": "code",
   "execution_count": 239,
   "id": "9ba66bba-56c1-45ff-a1b4-06dc801b1f7e",
   "metadata": {},
   "outputs": [
    {
     "data": {
      "text/html": [
       "<div>\n",
       "<style scoped>\n",
       "    .dataframe tbody tr th:only-of-type {\n",
       "        vertical-align: middle;\n",
       "    }\n",
       "\n",
       "    .dataframe tbody tr th {\n",
       "        vertical-align: top;\n",
       "    }\n",
       "\n",
       "    .dataframe thead th {\n",
       "        text-align: right;\n",
       "    }\n",
       "</style>\n",
       "<table border=\"1\" class=\"dataframe\">\n",
       "  <thead>\n",
       "    <tr style=\"text-align: right;\">\n",
       "      <th></th>\n",
       "      <th>name</th>\n",
       "      <th>city</th>\n",
       "    </tr>\n",
       "  </thead>\n",
       "  <tbody>\n",
       "    <tr>\n",
       "      <th>1</th>\n",
       "      <td>Nawer</td>\n",
       "      <td>Berlin</td>\n",
       "    </tr>\n",
       "  </tbody>\n",
       "</table>\n",
       "</div>"
      ],
      "text/plain": [
       "    name    city\n",
       "1  Nawer  Berlin"
      ]
     },
     "execution_count": 239,
     "metadata": {},
     "output_type": "execute_result"
    }
   ],
   "source": [
    "df.drop([0]) # row delete"
   ]
  },
  {
   "cell_type": "code",
   "execution_count": null,
   "id": "a5b38d76-50f3-4f8a-9da2-786421ed2a9a",
   "metadata": {},
   "outputs": [],
   "source": []
  }
 ],
 "metadata": {
  "kernelspec": {
   "display_name": "Python 3 (ipykernel)",
   "language": "python",
   "name": "python3"
  },
  "language_info": {
   "codemirror_mode": {
    "name": "ipython",
    "version": 3
   },
   "file_extension": ".py",
   "mimetype": "text/x-python",
   "name": "python",
   "nbconvert_exporter": "python",
   "pygments_lexer": "ipython3",
   "version": "3.12.4"
  }
 },
 "nbformat": 4,
 "nbformat_minor": 5
}
